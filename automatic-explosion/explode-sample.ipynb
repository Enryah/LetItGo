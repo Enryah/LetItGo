{
 "cells": [
  {
   "cell_type": "code",
   "execution_count": 5,
   "metadata": {},
   "outputs": [],
   "source": [
    "import automatic_explosion"
   ]
  },
  {
   "cell_type": "code",
   "execution_count": 6,
   "metadata": {},
   "outputs": [],
   "source": [
    "# [root: museScore]\n",
    "# Score\n",
    "# |- Part\n",
    "#    |- Staff (id)\n",
    "#    |- Instrument\n",
    "# |- [Part]\n",
    "# |- Staff (id)\n",
    "#    |- Measure\n",
    "#       |- voice\n",
    "#          |- Chord\n",
    "#             |- Lyrics\n",
    "#             |- Note\n",
    "#             |- [Note]\n",
    "#       |- voice\n",
    "\n",
    "\n",
    "# Input: Die Unterschiedlichen Stimmen einer Gruppe werden in einem System notiert, aber eben mit unterschiedlichen Stimmen\n",
    "# voice 1 ist immer die höchste Stimme in einer Stimmgruppe, voice 4 die niedrigste\n",
    "# TODO: Zurzeit müssen für alle Stimmen schon (leere) Notensysteme angelegt sein. Das sollte noch automatisiert werden"
   ]
  },
  {
   "cell_type": "code",
   "execution_count": 7,
   "metadata": {},
   "outputs": [
    {
     "name": "stderr",
     "output_type": "stream",
     "text": [
      "INFO - Found empty staff with id 1, copy from staff with id 2\n",
      "INFO - Found empty staff with id 4, copy from staff with id 6\n",
      "INFO - Found empty staff with id 5, copy from staff with id 6\n",
      "INFO - Staff 1, measure 0: Found 1 voice\n",
      "INFO - Staff 1, measure 1: Found 1 voice\n",
      "INFO - Staff 1, measure 2: Found 1 voice\n",
      "INFO - Staff 1, measure 3: Found 1 voice\n",
      "INFO - Staff 1, measure 4: Found 1 voice\n",
      "INFO - Staff 1, measure 5: Found 1 voice\n",
      "INFO - Staff 1, measure 6: Found 2 voice\n",
      "INFO - Staff 1, measure 6: Remove voice 1\n",
      "INFO - Staff 1, measure 7: Found 2 voice\n",
      "INFO - Staff 1, measure 7: Remove voice 1\n",
      "INFO - Staff 1, measure 8: Found 1 voice\n",
      "INFO - Staff 2, measure 0: Found 1 voice\n",
      "INFO - Staff 2, measure 1: Found 1 voice\n",
      "INFO - Staff 2, measure 2: Found 1 voice\n",
      "INFO - Staff 2, measure 3: Found 1 voice\n",
      "INFO - Staff 2, measure 4: Found 1 voice\n",
      "INFO - Staff 2, measure 5: Found 1 voice\n",
      "INFO - Staff 2, measure 6: Found 2 voice\n",
      "INFO - Staff 2, measure 6: Remove voice 0\n",
      "INFO - Staff 2, measure 7: Found 2 voice\n",
      "INFO - Staff 2, measure 7: Remove voice 0\n",
      "INFO - Staff 2, measure 8: Found 1 voice\n",
      "INFO - Staff 3, measure 0: Found 1 voice\n",
      "INFO - Staff 3, measure 1: Found 1 voice\n",
      "INFO - Staff 3, measure 2: Found 1 voice\n",
      "INFO - Staff 3, measure 3: Found 1 voice\n",
      "INFO - Staff 3, measure 4: Found 1 voice\n",
      "INFO - Staff 3, measure 5: Found 1 voice\n",
      "INFO - Staff 3, measure 6: Found 1 voice\n",
      "INFO - Staff 3, measure 7: Found 1 voice\n",
      "INFO - Staff 3, measure 8: Found 1 voice\n",
      "INFO - Staff 4, measure 0: Found 2 voice\n",
      "INFO - Staff 4, measure 0: Remove voice 1\n",
      "INFO - Staff 4, measure 1: Found 1 voice\n",
      "INFO - Staff 4, measure 2: Found 1 voice\n",
      "INFO - Staff 4, measure 3: Found 1 voice\n",
      "INFO - Staff 4, measure 4: Found 2 voice\n",
      "INFO - Staff 4, measure 4: Remove voice 1\n",
      "INFO - Staff 4, measure 5: Found 2 voice\n",
      "INFO - Staff 4, measure 5: Remove voice 1\n",
      "INFO - Staff 4, measure 6: Found 3 voice\n",
      "INFO - Staff 4, measure 6: Remove voice 1\n",
      "INFO - Staff 4, measure 6: Remove voice 2\n",
      "INFO - Staff 4, measure 7: Found 1 voice\n",
      "INFO - Staff 4, measure 8: Found 1 voice\n",
      "INFO - Staff 5, measure 0: Found 2 voice\n",
      "INFO - Staff 5, measure 0: Remove voice 0\n",
      "INFO - Staff 5, measure 1: Found 1 voice\n",
      "INFO - Staff 5, measure 2: Found 1 voice\n",
      "INFO - Staff 5, measure 3: Found 1 voice\n",
      "INFO - Staff 5, measure 4: Found 2 voice\n",
      "INFO - Staff 5, measure 4: Remove voice 0\n",
      "INFO - Staff 5, measure 5: Found 2 voice\n",
      "INFO - Staff 5, measure 5: Remove voice 0\n",
      "INFO - Staff 5, measure 6: Found 3 voice\n",
      "INFO - Staff 5, measure 6: Remove voice 0\n",
      "INFO - Staff 5, measure 6: Remove voice 1\n",
      "INFO - Staff 5, measure 6: Remove voice 2\n",
      "INFO - Staff 5, measure 6: Add voice 0\n",
      "INFO - Staff 5, measure 7: Found 1 voice\n",
      "INFO - Staff 5, measure 8: Found 1 voice\n",
      "INFO - Staff 6, measure 0: Found 2 voice\n",
      "INFO - Staff 6, measure 0: Remove voice 0\n",
      "INFO - Staff 6, measure 0: Remove voice 1\n",
      "INFO - Staff 6, measure 0: Add voice 0\n",
      "INFO - Staff 6, measure 1: Found 1 voice\n",
      "INFO - Staff 6, measure 2: Found 1 voice\n",
      "INFO - Staff 6, measure 3: Found 1 voice\n",
      "INFO - Staff 6, measure 4: Found 2 voice\n",
      "INFO - Staff 6, measure 4: Remove voice 0\n",
      "INFO - Staff 6, measure 4: Remove voice 1\n",
      "INFO - Staff 6, measure 4: Add voice 0\n",
      "INFO - Staff 6, measure 5: Found 2 voice\n",
      "INFO - Staff 6, measure 5: Remove voice 0\n",
      "INFO - Staff 6, measure 5: Remove voice 1\n",
      "INFO - Staff 6, measure 5: Add voice 0\n",
      "INFO - Staff 6, measure 6: Found 3 voice\n",
      "INFO - Staff 6, measure 6: Remove voice 0\n",
      "INFO - Staff 6, measure 6: Remove voice 1\n",
      "INFO - Staff 6, measure 7: Found 1 voice\n",
      "INFO - Staff 6, measure 8: Found 1 voice\n"
     ]
    }
   ],
   "source": [
    "automatic_explosion.explode(\"sample.mscx\", \"sample-exploded.mscx\")"
   ]
  },
  {
   "cell_type": "code",
   "execution_count": null,
   "metadata": {},
   "outputs": [],
   "source": []
  }
 ],
 "metadata": {
  "kernelspec": {
   "display_name": "Python 3",
   "language": "python",
   "name": "python3"
  },
  "language_info": {
   "codemirror_mode": {
    "name": "ipython",
    "version": 3
   },
   "file_extension": ".py",
   "mimetype": "text/x-python",
   "name": "python",
   "nbconvert_exporter": "python",
   "pygments_lexer": "ipython3",
   "version": "3.7.4"
  }
 },
 "nbformat": 4,
 "nbformat_minor": 4
}
